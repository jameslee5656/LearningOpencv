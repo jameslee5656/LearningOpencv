{
 "cells": [
  {
   "cell_type": "code",
   "execution_count": 1,
   "metadata": {},
   "outputs": [],
   "source": [
    "import cv2\n",
    "import numpy as np\n",
    "import time\n",
    "\n",
    "# cap = cv2.VideoCapture('parkingLot.png')\n",
    "img = cv2.imread('parkingLot.png')\n",
    "\n",
    "hsv = cv2.cvtColor(img, cv2.COLOR_BGR2HSV)\n",
    "\n",
    "sensitivity = 30\n",
    "lower_white = np.array([0,0,255-sensitivity])\n",
    "upper_white = np.array([255,sensitivity,255])\n",
    "\n",
    "mask = cv2.inRange(hsv, lower_white, upper_white)\n",
    "res = cv2.bitwise_and(img, img, mask = mask)\n",
    "\n",
    "kernel = np.ones((15,15), np.float32)/255\n",
    "smoothed = cv2.filter2D(res, -1, kernel)\n",
    "\n",
    "blur = cv2.GaussianBlur(res, (15,15), 0)#These are for reducing the noise\n",
    "median = cv2.medianBlur(res, 15)# And make it blur\n",
    "bilateral = cv2.bilateralFilter(res, 15,75,75)\n",
    "\n",
    "cv2.imshow('img',img)\n",
    "# cv2.imshow('mask',mask)\n",
    "cv2.imshow('res',res)\n",
    "cv2.imshow('smoothed', smoothed)\n",
    "cv2.imshow('blur',blur)\n",
    "cv2.imshow('median',median)\n",
    "cv2.imshow('bilateral',bilateral)\n",
    "\n",
    "k = cv2.waitKey(1) & 0xFF == ord('q')\n",
    "while k != 1:\n",
    "    k = cv2.waitKey(1) & 0xFF == ord('q') \n",
    "    if k == 1:\n",
    "        break\n",
    "\n",
    "cv2.destroyAllWindows()"
   ]
  },
  {
   "cell_type": "markdown",
   "metadata": {},
   "source": []
  }
 ],
 "metadata": {
  "kernelspec": {
   "display_name": "Python 3",
   "language": "python",
   "name": "python3"
  },
  "language_info": {
   "codemirror_mode": {
    "name": "ipython",
    "version": 3
   },
   "file_extension": ".py",
   "mimetype": "text/x-python",
   "name": "python",
   "nbconvert_exporter": "python",
   "pygments_lexer": "ipython3",
   "version": "3.6.5"
  }
 },
 "nbformat": 4,
 "nbformat_minor": 2
}
