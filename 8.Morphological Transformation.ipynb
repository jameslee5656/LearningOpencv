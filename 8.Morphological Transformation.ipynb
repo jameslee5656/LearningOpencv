{
 "cells": [
  {
   "cell_type": "code",
   "execution_count": null,
   "metadata": {},
   "outputs": [],
   "source": [
    "import cv2\n",
    "import numpy as np\n",
    "import time\n",
    "\n",
    "# cap = cv2.VideoCapture('parkingLot.png')\n",
    "img = cv2.imread('parkingLot.png')\n",
    "\n",
    "hsv = cv2.cvtColor(img, cv2.COLOR_BGR2HSV)\n",
    "\n",
    "sensitivity = 30\n",
    "lower_white = np.array([0,0,255-sensitivity])\n",
    "upper_white = np.array([255,sensitivity,255])\n",
    "\n",
    "mask = cv2.inRange(hsv, lower_white, upper_white)\n",
    "res = cv2.bitwise_and(img, img, mask = mask)\n",
    "\n",
    "kernel = np.ones((5,5), np.uint8)\n",
    "erosion = cv2.erode(mask, kernel, iterations = 1) #noise outside the object\n",
    "dilation = cv2.dilate(mask, kernel, iterations = 1) #noise inside the object\n",
    "\n",
    "opening = cv2.morphologyEx(mask, cv2.MORPH_OPEN, kernel)#remove the noise outside\n",
    "closing = cv2.morphologyEx(mask, cv2.MORPH_CLOSE, kernel)\n",
    "\n",
    "#It is the difference between input image and Opening of thee image\n",
    "tophat = cv2.morphologyEx(img, cv2.MORPH_TOPHAT, kernel)\n",
    "\n",
    "#It is the difference between the closing of the input image and input image\n",
    "blackhat = cv2.morphologyEx(img, cv2.MORPH_BLACKHAT, kernel)\n",
    "\n",
    "cv2.imshow('img',img)\n",
    "# cv2.imshow('mask',mask)\n",
    "cv2.imshow('res',res)\n",
    "cv2.imshow('erosion',erosion)\n",
    "cv2.imshow('dilation',dilation)\n",
    "cv2.imshow('opening',opening)\n",
    "cv2.imshow('closing',closing)\n",
    "cv2.imshow('Blackhat',blackhat)\n",
    "cv2.imshow('Tophat',tophat)\n",
    "\n",
    "k = cv2.waitKey(1) & 0xFF == ord('q')\n",
    "while k != 1:\n",
    "    k = cv2.waitKey(1) & 0xFF == ord('q') \n",
    "    if k == 1:\n",
    "        break\n",
    "\n",
    "cv2.destroyAllWindows()"
   ]
  },
  {
   "cell_type": "code",
   "execution_count": null,
   "metadata": {},
   "outputs": [],
   "source": []
  }
 ],
 "metadata": {
  "kernelspec": {
   "display_name": "Python 3",
   "language": "python",
   "name": "python3"
  },
  "language_info": {
   "codemirror_mode": {
    "name": "ipython",
    "version": 3
   },
   "file_extension": ".py",
   "mimetype": "text/x-python",
   "name": "python",
   "nbconvert_exporter": "python",
   "pygments_lexer": "ipython3",
   "version": "3.6.5"
  }
 },
 "nbformat": 4,
 "nbformat_minor": 2
}
