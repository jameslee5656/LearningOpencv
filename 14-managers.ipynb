{
 "cells": [
  {
   "cell_type": "code",
   "execution_count": 3,
   "metadata": {},
   "outputs": [],
   "source": [
    "import cv2\n",
    "from managers import WindowManager, CaptureManager\n",
    "\n",
    "class Cameo(object):\n",
    "    def __init__(self):\n",
    "        self._windowManager = WindowManager('Cameo', self.onKeypress)\n",
    "        self._captureManager = CaptureManager(cv2.VideoCapture(0), self._windowManager, True)\n",
    "        \n",
    "    def run(self):\n",
    "        \"\"\"Run the main loop.\"\"\"\n",
    "        self._windowManager.createWindow()\n",
    "        while self._windowManager.enterFrame():\n",
    "            self._windowManager.enterFrame()\n",
    "            frame = self._captureManager.enterFrame()\n",
    "            \n",
    "            #TODO : Filter the Frame  (chapter3)\n",
    "            \n",
    "            self._captureManager.exitFrame()\n",
    "            self._windowManager.processEvents()\n",
    "            \n",
    "    def onKeypress(self, keycode):\n",
    "        \"\"\"Handle a keypress\n",
    "\n",
    "        space  -> Take a screenshot.\n",
    "        tab    -> Start/stop recording a screencast.\n",
    "        escape -> Quit\n",
    "\n",
    "        \"\"\"\n",
    "        if keycode == 32: #space\n",
    "            self._captureManager.writeImage('image1.png')\n",
    "        elif keycode == 9: #tab\n",
    "            if not self._captureManager.isWritingVideo:\n",
    "                self._captureManger.startWritingVideo('hello.avi')\n",
    "            else:\n",
    "                self._captureManager.stopWritingVideo()\n",
    "        elif keycode == 27:\n",
    "            self._windowManager.destroyWindow()\n",
    "\n",
    "if __name__ == \"main\":\n",
    "    Cameo().run()"
   ]
  },
  {
   "cell_type": "code",
   "execution_count": null,
   "metadata": {},
   "outputs": [],
   "source": []
  },
  {
   "cell_type": "code",
   "execution_count": null,
   "metadata": {},
   "outputs": [],
   "source": []
  }
 ],
 "metadata": {
  "kernelspec": {
   "display_name": "Python 3",
   "language": "python",
   "name": "python3"
  },
  "language_info": {
   "codemirror_mode": {
    "name": "ipython",
    "version": 3
   },
   "file_extension": ".py",
   "mimetype": "text/x-python",
   "name": "python",
   "nbconvert_exporter": "python",
   "pygments_lexer": "ipython3",
   "version": "3.6.5"
  }
 },
 "nbformat": 4,
 "nbformat_minor": 2
}
