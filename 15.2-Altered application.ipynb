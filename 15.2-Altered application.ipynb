{
 "cells": [
  {
   "cell_type": "code",
   "execution_count": 2,
   "metadata": {},
   "outputs": [],
   "source": [
    "import cv2\n",
    "from module import filters, manager"
   ]
  },
  {
   "cell_type": "code",
   "execution_count": 3,
   "metadata": {},
   "outputs": [],
   "source": [
    "class Cameo(object):\n",
    "    \n",
    "    def __init__(self):\n",
    "        self._windowManager = WindowManager('Cameo', self.onKeypress)\n",
    "        self._captureManager = CaptureManager(cv2.VideoCapture(0), True)\n",
    "        self._curveFilter = filters.BGRPortraCurveFilter()\n",
    "        \n",
    "    def run(self):\n",
    "        \"\"\"Run the main loop.\"\"\"\n",
    "        self._windowManager.createWindow()\n",
    "        while self._windowsManager.isWindowCreated:\n",
    "            self._captureManager.enterFrame()\n",
    "            frame = self._captureManager.frame\n",
    "            \n",
    "            filters.strokeEdges(frame, frame)\n",
    "            self._curveFilter.apply(frame, frame)\n",
    "            \n",
    "            self._captureManager.exitFrame()\n",
    "            \n",
    "            self._windowManager.processEvents()\n",
    "            \n",
    "    def onKeypress(self, keycode):\n",
    "        \"\"\"Handle a keypress\n",
    "\n",
    "        space  -> Take a screenshot.\n",
    "        tab    -> Start/stop recording a screencast.\n",
    "        escape -> Quit\n",
    "\n",
    "        \"\"\"\n",
    "        if keycode == 32: #space\n",
    "            self._captureManager.writeImage('image1.png')\n",
    "        elif keycode == 9: #tab\n",
    "            if not self._captureManager.isWritingVideo:\n",
    "                self._captureManger.startWritingVideo('hello.avi')\n",
    "            else:\n",
    "                self._captureManager.stopWritingVideo()\n",
    "        elif keycode == 27:\n",
    "            self._windowManager.destroyWindow()\n",
    "if __name__ == \"main\":\n",
    "    Cameo().run()"
   ]
  },
  {
   "cell_type": "code",
   "execution_count": 5,
   "metadata": {},
   "outputs": [],
   "source": [
    "# 選擇第二隻攝影機\n",
    "cap = cv2.VideoCapture(0)\n",
    "\n",
    "while(True):\n",
    "  # 從攝影機擷取一張影像\n",
    "  ret, frame = cap.read()\n",
    "\n",
    "  # 顯示圖片\n",
    "  cv2.imshow('frame', frame)\n",
    "\n",
    "  # 若按下 q 鍵則離開迴圈\n",
    "  if cv2.waitKey(1) & 0xFF == ord('q'):\n",
    "    break\n",
    "\n",
    "# 釋放攝影機\n",
    "cap.release()\n",
    "\n",
    "# 關閉所有 OpenCV 視窗\n",
    "cv2.destroyAllWindows()"
   ]
  },
  {
   "cell_type": "code",
   "execution_count": null,
   "metadata": {},
   "outputs": [],
   "source": []
  }
 ],
 "metadata": {
  "kernelspec": {
   "display_name": "Python 3",
   "language": "python",
   "name": "python3"
  },
  "language_info": {
   "codemirror_mode": {
    "name": "ipython",
    "version": 3
   },
   "file_extension": ".py",
   "mimetype": "text/x-python",
   "name": "python",
   "nbconvert_exporter": "python",
   "pygments_lexer": "ipython3",
   "version": "3.6.5"
  }
 },
 "nbformat": 4,
 "nbformat_minor": 2
}
