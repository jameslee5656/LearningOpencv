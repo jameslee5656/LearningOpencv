{
 "cells": [
  {
   "cell_type": "code",
   "execution_count": 6,
   "metadata": {},
   "outputs": [],
   "source": [
    "import numpy as np\n",
    "import cv2\n",
    "\n",
    "img1 = cv2.imread('image1.png')\n",
    "img2 = cv2.imread('image2.jpg')\n",
    "img3 = cv2.imread('image3.jpg')\n",
    "\n",
    "# add = img1 + img2\n",
    "#add = cv2.add(img1,img2)\n",
    "# cv2.imshow('add',add)\n",
    "\n",
    "# weighted = cv2.addWeighted(img1, 0.6, img2, 0.4, 0)\n",
    "# cv2.imshow('weighted',weighted)\n",
    "\n",
    "rows, cols, channels = img3.shape\n",
    "roi = img2[0:rows,0:cols]\n",
    "\n",
    "img3gray = cv2.cvtColor(img3, cv2.COLOR_BGR2GRAY)\n",
    "ret, mask = cv2.threshold(img3gray, 170, 255, cv2.THRESH_BINARY_INV)\n",
    "# cv2.imshow('mask',mask)\n",
    "\n",
    "mask_inv = cv2.bitwise_not(mask)\n",
    "\n",
    "img2_bg = cv2.bitwise_and(roi, roi, mask=mask_inv)\n",
    "img3_fg = cv2.bitwise_and(img3, img3, mask=mask)\n",
    "\n",
    "dst = cv2.add(img2_bg, img3_fg)\n",
    "img2[0:rows,0:cols] = dst\n",
    "\n",
    "cv2.imshow('res',img2)\n",
    "# cv2.imshow('mask_inv', mask_inv)\n",
    "# cv2.imshow('img2_bg', img2_bg)\n",
    "# cv2.imshow('img3_fg', img3_fg)\n",
    "# cv2.imshow('dst', dst)\n",
    "\n",
    "cv2.waitKey(0)\n",
    "cv2.destroyAllWindows()"
   ]
  },
  {
   "cell_type": "code",
   "execution_count": null,
   "metadata": {},
   "outputs": [],
   "source": []
  }
 ],
 "metadata": {
  "kernelspec": {
   "display_name": "Python 3",
   "language": "python",
   "name": "python3"
  },
  "language_info": {
   "codemirror_mode": {
    "name": "ipython",
    "version": 3
   },
   "file_extension": ".py",
   "mimetype": "text/x-python",
   "name": "python",
   "nbconvert_exporter": "python",
   "pygments_lexer": "ipython3",
   "version": "3.6.5"
  }
 },
 "nbformat": 4,
 "nbformat_minor": 2
}
