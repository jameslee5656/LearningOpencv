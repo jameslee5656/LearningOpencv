{
 "cells": [
  {
   "cell_type": "code",
   "execution_count": 8,
   "metadata": {},
   "outputs": [
    {
     "name": "stdout",
     "output_type": "stream",
     "text": [
      "(3, 3)\n",
      "(3, 3, 3)\n"
     ]
    },
    {
     "data": {
      "text/plain": [
       "array([[[0, 0, 0],\n",
       "        [0, 0, 0],\n",
       "        [0, 0, 0]],\n",
       "\n",
       "       [[0, 0, 0],\n",
       "        [0, 0, 0],\n",
       "        [0, 0, 0]],\n",
       "\n",
       "       [[0, 0, 0],\n",
       "        [0, 0, 0],\n",
       "        [0, 0, 0]]], dtype=uint8)"
      ]
     },
     "execution_count": 8,
     "metadata": {},
     "output_type": "execute_result"
    }
   ],
   "source": [
    "import cv2\n",
    "import numpy as np\n",
    "\n",
    "img = np.zeros((3,3), dtype=np.uint8)\n",
    "print(img.shape)\n",
    "img = cv2.cvtColor(img, cv2.COLOR_GRAY2BGR)\n",
    "print(img.shape)\n",
    "img"
   ]
  },
  {
   "cell_type": "code",
   "execution_count": 9,
   "metadata": {},
   "outputs": [
    {
     "data": {
      "text/plain": [
       "True"
      ]
     },
     "execution_count": 9,
     "metadata": {},
     "output_type": "execute_result"
    }
   ],
   "source": [
    "#convert png to jpg and save\n",
    "image = cv2.imread('parkingLot.png')\n",
    "cv2.imwrite('test.jpg',image)"
   ]
  },
  {
   "cell_type": "code",
   "execution_count": 15,
   "metadata": {},
   "outputs": [],
   "source": [
    "import os\n",
    "#Makke an array of 120000 random bytes\n",
    "randomByteArray = bytearray(os.urandom(120000))\n",
    "flatNumpyArray = np.array(randomByteArray)\n",
    "\n",
    "#Convert the array to make a 400x300 grayscale image\n",
    "grayImage = flatNumpyArray.reshape(300,400)\n",
    "cv2.imshow('Randomgray.png',grayImage)\n",
    "\n",
    "bgrImage = flatNumpyArray.reshape(100, 400, 3)\n",
    "cv2.imshow('RandomColor.png', bgrImage)\n",
    "#cv2.imshow must have\n",
    "cv2.waitKey(0)\n",
    "cv2.destroyAllWindows()"
   ]
  },
  {
   "cell_type": "code",
   "execution_count": 26,
   "metadata": {},
   "outputs": [],
   "source": [
    "img = cv2.imread('image1.png')\n",
    "\n",
    "for i in range(100):    \n",
    "    img[i,i] = [255,255,255]\n",
    "\n",
    "#     print(img.item(150,120 + i,0))\n",
    "    img.itemset((150,120 + i,0),255)\n",
    "#     print(img.item(150,120 + i,0))\n",
    "\n",
    "img[:, : ,1] = 0 # Use this method is much quicker\n",
    "\n",
    "cv2.imshow('image1',img)\n",
    "cv2.waitKey(0)\n",
    "cv2.destroyAllWindows()"
   ]
  },
  {
   "cell_type": "code",
   "execution_count": 33,
   "metadata": {},
   "outputs": [
    {
     "name": "stdout",
     "output_type": "stream",
     "text": [
      "(720, 1280, 3)\n",
      "2764800\n",
      "uint8\n"
     ]
    }
   ],
   "source": [
    "#Setting roi region of interest\n",
    "img = cv2.imread('image1.png')\n",
    "my_roi = img[0:100, 0:100]\n",
    "img[300:400, 300:400] = my_roi\n",
    "\n",
    "print(img.shape)\n",
    "print(img.size)\n",
    "print(img.dtype)\n",
    "\n",
    "cv2.imshow('image1',img)\n",
    "cv2.waitKey(0)\n",
    "cv2.destroyAllWindows()"
   ]
  },
  {
   "cell_type": "code",
   "execution_count": 38,
   "metadata": {},
   "outputs": [],
   "source": [
    "#read video\n",
    "videoCapture = cv2.VideoCapture('hello.avi')\n",
    "fps = videoCapture.get(cv2.CAP_PROP_FPS)\n",
    "size = (int(videoCapture.get(cv2.CAP_PROP_FRAME_WIDTH)),\n",
    "        int(videoCapture.get(cv2.CAP_PROP_FRAME_HEIGHT)))\n",
    "videoWriter = cv2.VideoWriter(\n",
    "        'outputvid.avi', cv2.VideoWriter_fourcc('X','V','I','D'),\n",
    "                    fps, size)\n",
    "\n",
    "success , frame = videoCapture.read()\n",
    "while success: #loop until no frame\n",
    "    videoWriter.write(frame)\n",
    "    success, frame = videoCapture.read()\n",
    "    "
   ]
  },
  {
   "cell_type": "code",
   "execution_count": null,
   "metadata": {},
   "outputs": [],
   "source": []
  }
 ],
 "metadata": {
  "kernelspec": {
   "display_name": "Python 3",
   "language": "python",
   "name": "python3"
  },
  "language_info": {
   "codemirror_mode": {
    "name": "ipython",
    "version": 3
   },
   "file_extension": ".py",
   "mimetype": "text/x-python",
   "name": "python",
   "nbconvert_exporter": "python",
   "pygments_lexer": "ipython3",
   "version": "3.6.5"
  }
 },
 "nbformat": 4,
 "nbformat_minor": 2
}
