{
 "cells": [
  {
   "cell_type": "code",
   "execution_count": 23,
   "metadata": {},
   "outputs": [],
   "source": [
    "import cv2\n",
    "import numpy as np\n",
    "\n",
    "img = cv2.imread(\"fileout.png\")\n",
    "small = cv2.resize(img, (0,0), fx=0.5, fy=0.5)\n",
    "\n",
    "hsv = cv2.cvtColor(small, cv2.COLOR_BGR2HSV)\n",
    "sensitivity = 5\n",
    "lower_white = np.array([0,0,255-sensitivity])\n",
    "upper_white = np.array([255,sensitivity,255])\n",
    "mask = cv2.inRange(hsv, lower_white, upper_white)\n",
    "res = cv2.bitwise_and(small,small, mask= mask)\n",
    "\n",
    "# cv2.imshow('opencv_image',res)\n",
    "# cv2.waitKey(0)\n",
    "# cv2.destroyAllWindows()"
   ]
  },
  {
   "cell_type": "code",
   "execution_count": 24,
   "metadata": {},
   "outputs": [
    {
     "name": "stdout",
     "output_type": "stream",
     "text": [
      "[144, 513]\n",
      "[0 0 0]\n"
     ]
    }
   ],
   "source": [
    "import math\n",
    "#define something\n",
    "WIDTH_PIX = 1576\n",
    "LENGTH_PIX = 890\n",
    "\n",
    "NW_lat_long =  [24.947246, 121.359039]\n",
    "SE_lat_long = [24.938589, 121.375952]\n",
    "\n",
    "def take_pix_from_location (a,b): #a = longitude, b =  latitude\n",
    "    return [int((b - 24.938589)*LENGTH_PIX/(24.947246 - 24.938589)), int((a - 121.359039)*WIDTH_PIX/(121.375952 -121.359039))]\n",
    "\n",
    "print(take_pix_from_location(121.364545,24.93999))\n",
    "print(res[531,144])"
   ]
  },
  {
   "cell_type": "code",
   "execution_count": 29,
   "metadata": {},
   "outputs": [],
   "source": [
    "import matplotlib.path as mplPath\n",
    "import matplotlib.pyplot as plt\n",
    "\n",
    "points_path = mplPath.Path([(take_pix_from_location(121.3707682,24.9460277)),\n",
    "                   (take_pix_from_location(121.3662299,24.9431871)),\n",
    "                   (take_pix_from_location(121.3681503,24.9416404)),\n",
    "                   (take_pix_from_location(121.372238,24.9440043)),\n",
    "                   (take_pix_from_location(121.372356,24.945337)),\n",
    "                   (take_pix_from_location(121.3707682,24.9460277))])\n",
    "\n",
    "points_nparray = np.array([(take_pix_from_location(121.3707682,24.9460277)),\n",
    "                   (take_pix_from_location(121.3662299,24.9431871)),\n",
    "                   (take_pix_from_location(121.3681503,24.9416404)),\n",
    "                   (take_pix_from_location(121.372238,24.9440043)),\n",
    "                   (take_pix_from_location(121.372356,24.945337)),\n",
    "                   (take_pix_from_location(121.3707682,24.9460277))])"
   ]
  },
  {
   "cell_type": "code",
   "execution_count": 81,
   "metadata": {},
   "outputs": [
    {
     "name": "stdout",
     "output_type": "stream",
     "text": [
      "[[ 764  472  313  556  693  764]\n",
      " [1092  670  849 1229 1240 1092]]\n"
     ]
    }
   ],
   "source": [
    "# p = np.array([(673,472)])\n",
    "# points.contains_points(p)\n",
    "\n",
    "# for i in range(LENGTH_PIX):\n",
    "#     for j in range(WIDTH_PIX):\n",
    "#         p = np.array([(LENGTH_PIX - i,j)])#the y is opisite\n",
    "#         if(points_path.contains_points(p)):\n",
    "#             res[i,j] = [20, 200, 200]\n",
    "# plt.imshow(res)\n",
    "\n",
    "points_nparray_T = points_nparray.T\n",
    "print(points_nparray_T)\n",
    "for\n"
   ]
  },
  {
   "cell_type": "code",
   "execution_count": null,
   "metadata": {},
   "outputs": [],
   "source": []
  }
 ],
 "metadata": {
  "kernelspec": {
   "display_name": "Python 3",
   "language": "python",
   "name": "python3"
  },
  "language_info": {
   "codemirror_mode": {
    "name": "ipython",
    "version": 3
   },
   "file_extension": ".py",
   "mimetype": "text/x-python",
   "name": "python",
   "nbconvert_exporter": "python",
   "pygments_lexer": "ipython3",
   "version": "3.6.5"
  }
 },
 "nbformat": 4,
 "nbformat_minor": 2
}
