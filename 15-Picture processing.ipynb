{
 "cells": [
  {
   "cell_type": "code",
   "execution_count": 4,
   "metadata": {},
   "outputs": [],
   "source": [
    "import cv2\n",
    "import numpy as np\n",
    "from scipy import ndimage\n",
    "\n",
    "kernel_3x3 = np.array([[-1, -1, -1],\n",
    "                       [-1,  8, -1],\n",
    "                       [-1, -1, -1]])\n",
    "\n",
    "kernel_5x5 = np.array([[-1, -1, -1, -1, -1],\n",
    "                       [-1,  1,  2,  4, -1],\n",
    "                       [-1,  1,  4,  2, -1],\n",
    "                       [-1,  1,  2,  1, -1],\n",
    "                       [-1, -1, -1, -1, -1]])\n",
    "\n",
    "img = cv2.imread('image1.png', 0)\n",
    "\n",
    "k3 = ndimage.convolve(img, kernel_3x3)\n",
    "k5 = ndimage.convolve(img, kernel_5x5)\n",
    "\n",
    "blurred = cv2.GaussianBlur(img, (11,11), 0)\n",
    "g_hpf = img - blurred\n",
    "\n",
    "cv2.imshow(\"3x3\", k3)\n",
    "cv2.imshow(\"5x5\", k5)\n",
    "cv2.imshow(\"g_hpf\", g_hpf)\n",
    "cv2.waitKey()\n",
    "cv2.destroyAllWindows()"
   ]
  },
  {
   "cell_type": "code",
   "execution_count": null,
   "metadata": {},
   "outputs": [],
   "source": [
    "import cv2 \n",
    "import numpy as np\n",
    "import utils\n",
    "\n",
    "def stokeEdges(src, dst, blurKsize = 7, edgeKsize = 5):\n",
    "    if blurKsize >= 3:\n",
    "        blurredSrc = cv2.medianBlur(src, BlurKsize)\n",
    "        graySrc = cv2.cvtColor(blurredSrc, cv2.COLOR_BGR2GRAY)\n",
    "    else :\n",
    "        graySrc = cv2.cvtColor(src, cv2.COLOR_BGR2GRAY)\n",
    "    cv2.Laplacian(graySrc, cv2.CV_8U, graySrc, ksize = edgeKsize)\n",
    "    normalizedInverseAl"
   ]
  }
 ],
 "metadata": {
  "kernelspec": {
   "display_name": "Python 3",
   "language": "python",
   "name": "python3"
  },
  "language_info": {
   "codemirror_mode": {
    "name": "ipython",
    "version": 3
   },
   "file_extension": ".py",
   "mimetype": "text/x-python",
   "name": "python",
   "nbconvert_exporter": "python",
   "pygments_lexer": "ipython3",
   "version": "3.6.5"
  }
 },
 "nbformat": 4,
 "nbformat_minor": 2
}
