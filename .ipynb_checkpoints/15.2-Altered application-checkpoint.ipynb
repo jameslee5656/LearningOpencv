{
 "cells": [
  {
   "cell_type": "code",
   "execution_count": 2,
   "metadata": {},
   "outputs": [],
   "source": [
    "import cv2\n",
    "from module import filters, WindowManager,CaptureManager"
   ]
  },
  {
   "cell_type": "code",
   "execution_count": 6,
   "metadata": {},
   "outputs": [],
   "source": [
    "class Cameo(object):\n",
    "    \n",
    "    def __init__(self):\n",
    "        self._windowManager = WindowManager.WindowManager('Cameo',\n",
    "                                             self.onKeypress)\n",
    "        self._captureManager = CaptureManager.CaptureManager(\n",
    "            cv2.VideoCapture(0), self._windowManager, True)\n",
    "        self._curveFilter = filters.BGRPortraCurveFilter()\n",
    "    \n",
    "    def run(self):\n",
    "        \"\"\"Run the main loop.\"\"\"\n",
    "        self._windowManager.createWindow()\n",
    "        while self._windowManager.isWindowCreated:\n",
    "            self._captureManager.enterFrame()\n",
    "            frame = self._captureManager.frame\n",
    "            \n",
    "            if frame is not None:\n",
    "                \n",
    "                # TODO: Track faces (Chapter 3).\n",
    "                \n",
    "                filters.strokeEdges(frame, frame)\n",
    "                self._curveFilter.apply(frame, frame)\n",
    "            \n",
    "            self._captureManager.exitFrame()\n",
    "            self._windowManager.processEvents()\n",
    "    \n",
    "    def onKeypress(self, keycode):\n",
    "        \"\"\"Handle a keypress.\n",
    "        \n",
    "        space  -> Take a screenshot.\n",
    "        tab    -> Start/stop recording a screencast.\n",
    "        escape -> Quit.\n",
    "        \n",
    "        \"\"\"\n",
    "        if keycode == 32: # space\n",
    "            self._captureManager.writeImage('screenshot.png')\n",
    "        elif keycode == 9: # tab\n",
    "            if not self._captureManager.isWritingVideo:\n",
    "                self._captureManager.startWritingVideo(\n",
    "                    'screencast.avi')\n",
    "            else:\n",
    "                self._captureManager.stopWritingVideo()\n",
    "        elif keycode == 27: # escape\n",
    "            self._windowManager.destroyWindow()\n",
    "\n",
    "if __name__==\"__main__\":\n",
    "    Cameo().run()"
   ]
  },
  {
   "cell_type": "code",
   "execution_count": 4,
   "metadata": {},
   "outputs": [],
   "source": [
    "\n",
    "# 選擇第二隻攝影機\n",
    "cap = cv2.VideoCapture(0) \n",
    "\n",
    "while(True):\n",
    "  # 從攝影機擷取一張影像\n",
    "  ret, frame = cap.read()\n",
    "\n",
    "  # 顯示圖片\n",
    "  cv2.imshow('frame', frame)\n",
    "\n",
    "  # 若按下 q 鍵則離開迴圈\n",
    "  if cv2.waitKey(1) & 0xFF == ord('q'):\n",
    "    break\n",
    "\n",
    "# 釋放攝影機\n",
    "cap.release()\n",
    "\n",
    "# 關閉所有 OpenCV 視窗\n",
    "cv2.destroyAllWindows()"
   ]
  },
  {
   "cell_type": "code",
   "execution_count": null,
   "metadata": {},
   "outputs": [],
   "source": []
  }
 ],
 "metadata": {
  "kernelspec": {
   "display_name": "Python 3",
   "language": "python",
   "name": "python3"
  }
 },
 "nbformat": 4,
 "nbformat_minor": 2
}
