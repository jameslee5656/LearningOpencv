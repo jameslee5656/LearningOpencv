{
 "cells": [
  {
   "cell_type": "code",
   "execution_count": 2,
   "metadata": {},
   "outputs": [],
   "source": [
    "import cv2\n",
    "from module import filters, WindowManager,CaptureManager"
   ]
  },
  {
   "cell_type": "code",
   "execution_count": 6,
   "metadata": {},
   "outputs": [],
   "source": [
    "class Cameo(object):\n",
    "    \n",
    "    def __init__(self):\n",
    "        self._windowManager = WindowManager.WindowManager('Cameo',\n",
    "                                             self.onKeypress)\n",
    "        self._captureManager = CaptureManager.CaptureManager(\n",
    "            cv2.VideoCapture(0), self._windowManager, True)\n",
    "        self._curveFilter = filters.BGRPortraCurveFilter()\n",
    "    \n",
    "    def run(self):\n",
    "        \"\"\"Run the main loop.\"\"\"\n",
    "        self._windowManager.createWindow()\n",
    "        while self._windowManager.isWindowCreated:\n",
    "            self._captureManager.enterFrame()\n",
    "            frame = self._captureManager.frame\n",
    "            \n",
    "            if frame is not None:\n",
    "                \n",
    "                # TODO: Track faces (Chapter 3).\n",
    "                \n",
    "                filters.strokeEdges(frame, frame)\n",
    "                self._curveFilter.apply(frame, frame)\n",
    "            \n",
    "            self._captureManager.exitFrame()\n",
    "            self._windowManager.processEvents()\n",
    "    \n",
    "    def onKeypress(self, keycode):\n",
    "        \"\"\"Handle a keypress.\n",
    "        \n",
    "        space  -> Take a screenshot.\n",
    "        tab    -> Start/stop recording a screencast.\n",
    "        escape -> Quit.\n",
    "        \n",
    "        \"\"\"\n",
    "        if keycode == 32: # space\n",
    "            self._captureManager.writeImage('screenshot.png')\n",
    "        elif keycode == 9: # tab\n",
    "            if not self._captureManager.isWritingVideo:\n",
    "                self._captureManager.startWritingVideo(\n",
    "                    'screencast.avi')\n",
    "            else:\n",
    "                self._captureManager.stopWritingVideo()\n",
    "        elif keycode == 27: # escape\n",
    "            self._windowManager.destroyWindow()\n",
    "\n",
    "if __name__==\"__main__\":\n",
    "    Cameo().run()"
   ]
  },
  {
   "cell_type": "code",
   "execution_count": null,
   "metadata": {},
   "outputs": [],
   "source": []
  }
 ],
 "metadata": {
  "kernelspec": {
   "display_name": "Python 3",
   "language": "python",
   "name": "python3"
  }
 },
 "nbformat": 4,
 "nbformat_minor": 2
}
