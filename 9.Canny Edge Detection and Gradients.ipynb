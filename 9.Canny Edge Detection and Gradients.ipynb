{
 "cells": [
  {
   "cell_type": "code",
   "execution_count": 11,
   "metadata": {},
   "outputs": [],
   "source": [
    "import cv2\n",
    "import numpy as np\n",
    "import time\n",
    "\n",
    "# cap = cv2.VideoCapture('parkingLot.png')\n",
    "img = cv2.imread('parkingLot.png')\n",
    "\n",
    "laplacian = cv2.Laplacian(img, cv2.CV_64F)\n",
    "sobelx = cv2.Sobel (img, cv2.CV_64F, 1, 0, ksize=5)\n",
    "sobely = cv2.Sobel (img, cv2.CV_64F, 0, 1, ksize=5)\n",
    "\n",
    "#Combine it with chapter 8\n",
    "hsv = cv2.cvtColor(img, cv2.COLOR_BGR2HSV)\n",
    "sensitivity = 30\n",
    "lower_white = np.array([0,0,255-sensitivity])\n",
    "kernel = np.ones((5,5), np.uint8)\n",
    "upper_white = np.array([255,sensitivity,255])\n",
    "mask = cv2.inRange(hsv, lower_white, upper_white)\n",
    "erosion = cv2.erode(mask, kernel, iterations = 1)\n",
    "edges = cv2.Canny(erosion, 100, 200)# New learning\n",
    "\n",
    "cv2.imshow('original',img)\n",
    "cv2.imshow('laplacian',laplacian)\n",
    "cv2.imshow('sobelx',sobelx)\n",
    "cv2.imshow('sobely',sobely)\n",
    "cv2.imshow('edges',edges)\n",
    "\n",
    "k = cv2.waitKey(1) & 0xFF == ord('q')\n",
    "while k != 1:\n",
    "    k = cv2.waitKey(1) & 0xFF == ord('q') \n",
    "    if k == 1:\n",
    "        break\n",
    "\n",
    "cv2.destroyAllWindows()"
   ]
  },
  {
   "cell_type": "code",
   "execution_count": null,
   "metadata": {},
   "outputs": [],
   "source": []
  }
 ],
 "metadata": {
  "kernelspec": {
   "display_name": "Python 3",
   "language": "python",
   "name": "python3"
  },
  "language_info": {
   "codemirror_mode": {
    "name": "ipython",
    "version": 3
   },
   "file_extension": ".py",
   "mimetype": "text/x-python",
   "name": "python",
   "nbconvert_exporter": "python",
   "pygments_lexer": "ipython3",
   "version": "3.6.5"
  }
 },
 "nbformat": 4,
 "nbformat_minor": 2
}
